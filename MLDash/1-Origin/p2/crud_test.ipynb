{
 "cells": [
  {
   "cell_type": "code",
   "execution_count": 1,
   "metadata": {},
   "outputs": [
    {
     "name": "stdout",
     "output_type": "stream",
     "text": [
      "animal added\n",
      "\n",
      "\n",
      "animal found\n",
      "\n",
      "\n",
      "<pymongo.cursor.Cursor object at 0x7f1411758e48>\n",
      "\n",
      "\n",
      "Displaying animal document\n",
      "{'_id': ObjectId('624288a73e12aebb2e6a2f22'), '1': 2, 'age_upon_outcome': '30 years', 'animal_id': 'A555555', 'animal_type': 'Nordic Platypus', 'breed': 'Domestic Shorthair Mix', 'color': 'Long Hooked Warbler', 'date_of_birth': '1992-05-02', 'datetime': '2022-03-06 10:49:00', 'monthyear': '2022-03-06T10:49:00', 'name': 'Baxter', 'outcome_subtype': 'SCRP', 'outcome_type': 'Transfer', 'sex_upon_outcome': 'Unpaired Female', 'location_lat': 30.6525984560228, 'location_long': -97.7419963476444, 'age_upon_outcome_in_weeks': 1552.9215277777778}\n",
      "\n",
      "\n",
      "displaying updated document\n",
      "{'_id': ObjectId('624288a73e12aebb2e6a2f22'), '1': 2, 'age_upon_outcome': '30 years', 'animal_id': 'A555555', 'animal_type': 'Saharan Platypus', 'breed': 'Domestic Shorthair Mix', 'color': 'Long Hooked Warbler', 'date_of_birth': '1992-05-02', 'datetime': '2022-03-06 10:49:00', 'monthyear': '2022-03-06T10:49:00', 'name': 'Baxter', 'outcome_subtype': 'SCRP', 'outcome_type': 'Transfer', 'sex_upon_outcome': 'Unpaired Female', 'location_lat': 30.6525984560228, 'location_long': -97.7419963476444, 'age_upon_outcome_in_weeks': 1552.9215277777778}\n",
      "\n",
      "\n",
      "Deletion of Animal Document Complete\n",
      "\n",
      "\n"
     ]
    }
   ],
   "source": [
    "from crud import AnimalShelter\n",
    "\n",
    "#test the C in Crud\n",
    "shelter = AnimalShelter('aacuser', 'password')\n",
    "data = {\"1\":2, \"age_upon_outcome\":\"30 years\", \"animal_id\" : \"A555555\", \"animal_type\" : \"Nordic Platypus\",\n",
    "        \"breed\" : \"Domestic Shorthair Mix\", \"color\" : \"Long Hooked Warbler\", \"date_of_birth\" : \"1992-05-02\",\n",
    "        \"datetime\" : \"2022-03-06 10:49:00\", \"monthyear\" : \"2022-03-06T10:49:00\", \"name\" : \"Baxter\",\n",
    "        \"outcome_subtype\" : \"SCRP\", \"outcome_type\" : \"Transfer\", \"sex_upon_outcome\" : \"Unpaired Female\",\n",
    "        \"location_lat\" : 30.6525984560228, \"location_long\" : -97.7419963476444, \n",
    "        \"age_upon_outcome_in_weeks\" : 1552.9215277777778}\n",
    "\n",
    "inserted = shelter.create(data)\n",
    "if inserted:\n",
    "    print('animal added')\n",
    "    print('\\n')\n",
    "\n",
    "query = {'animal_type' : 'Nordic Platypus'}\n",
    "\n",
    "animal = shelter.read_all(query)\n",
    "if animal:\n",
    "    print('animal found')\n",
    "    print('\\n')\n",
    "    print(animal)\n",
    "    print('\\n')\n",
    "\n",
    "animal = shelter.read(query)\n",
    "if animal:\n",
    "    print('Displaying animal document')\n",
    "    print(animal)\n",
    "    print('\\n')\n",
    "\n",
    "lookupQuery = {\"animal_type\" : \"Nordic Platypus\"}\n",
    "updateParam = {\"animal_type\" : \"Saharan Platypus\"}\n",
    "revision = shelter.update(lookupQuery, updateParam)\n",
    "if revision:\n",
    "    print('displaying updated document')\n",
    "    print (revision)\n",
    "    print('\\n')\n",
    "\n",
    "lookupQuery = {'animal_type' : 'Saharan Platypus'}\n",
    "notDeleted = shelter.delete(lookupQuery)\n",
    "if notDeleted:\n",
    "    print('Failed to Delete Animal Document')\n",
    "    print('\\n')\n",
    "else:\n",
    "    print('Deletion of Animal Document Complete')\n",
    "    print('\\n')\n"
   ]
  },
  {
   "cell_type": "code",
   "execution_count": null,
   "metadata": {},
   "outputs": [],
   "source": []
  }
 ],
 "metadata": {
  "kernelspec": {
   "display_name": "Python 3",
   "language": "python",
   "name": "python3"
  },
  "language_info": {
   "codemirror_mode": {
    "name": "ipython",
    "version": 3
   },
   "file_extension": ".py",
   "mimetype": "text/x-python",
   "name": "python",
   "nbconvert_exporter": "python",
   "pygments_lexer": "ipython3",
   "version": "3.6.9"
  }
 },
 "nbformat": 4,
 "nbformat_minor": 2
}
